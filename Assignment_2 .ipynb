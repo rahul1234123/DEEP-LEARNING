{
  "nbformat": 4,
  "nbformat_minor": 0,
  "metadata": {
    "colab": {
      "provenance": []
    },
    "kernelspec": {
      "name": "python3",
      "display_name": "Python 3"
    },
    "language_info": {
      "name": "python"
    }
  },
  "cells": [
    {
      "cell_type": "code",
      "execution_count": null,
      "metadata": {
        "id": "C2GPTlbT-lrp"
      },
      "outputs": [],
      "source": [
        "import numpy as np\n",
        "import tensorflow as tf\n",
        "from tensorflow.keras.datasets import cifar10\n",
        "from tensorflow.keras.applications import VGG16\n",
        "from tensorflow.keras.models import Sequential\n",
        "from tensorflow.keras.layers import Flatten, Dense, Dropout\n",
        "from tensorflow.keras.optimizers import Adam\n",
        "from sklearn.model_selection import train_test_split\n",
        "from sklearn.metrics import accuracy_score, classification_report"
      ]
    },
    {
      "cell_type": "code",
      "source": [
        "(X_train, y_train), (X_test, y_test) = cifar10.load_data()\n",
        "X_train, X_val, y_train, y_val = train_test_split(X_train, y_train, test_size=0.2, random_state=42)"
      ],
      "metadata": {
        "colab": {
          "base_uri": "https://localhost:8080/"
        },
        "id": "Ykw7lrkT-vZX",
        "outputId": "bf3ac0e6-c724-410e-95dd-c4e8c167ebc1"
      },
      "execution_count": null,
      "outputs": [
        {
          "output_type": "stream",
          "name": "stdout",
          "text": [
            "Downloading data from https://www.cs.toronto.edu/~kriz/cifar-10-python.tar.gz\n",
            "170498071/170498071 [==============================] - 5s 0us/step\n"
          ]
        }
      ]
    },
    {
      "cell_type": "code",
      "source": [
        "X_train = X_train.astype('float32') / 255.0\n",
        "X_val = X_val.astype('float32') / 255.0\n",
        "X_test = X_test.astype('float32') / 255.0\n"
      ],
      "metadata": {
        "id": "Eky09rmy-9hr"
      },
      "execution_count": null,
      "outputs": []
    },
    {
      "cell_type": "code",
      "source": [
        "base_model = VGG16(weights='imagenet', include_top=False, input_shape=(32, 32, 3))"
      ],
      "metadata": {
        "colab": {
          "base_uri": "https://localhost:8080/"
        },
        "id": "eCgE11Js_B88",
        "outputId": "0854e97c-2602-4896-ce96-5ee0ee9d0c0e"
      },
      "execution_count": null,
      "outputs": [
        {
          "output_type": "stream",
          "name": "stdout",
          "text": [
            "Downloading data from https://storage.googleapis.com/tensorflow/keras-applications/vgg16/vgg16_weights_tf_dim_ordering_tf_kernels_notop.h5\n",
            "58889256/58889256 [==============================] - 0s 0us/step\n"
          ]
        }
      ]
    },
    {
      "cell_type": "code",
      "source": [
        "for layer in base_model.layers:\n",
        "    layer.trainable = False"
      ],
      "metadata": {
        "id": "7sguI_Eg_NQ7"
      },
      "execution_count": null,
      "outputs": []
    },
    {
      "cell_type": "code",
      "source": [
        "model = Sequential([\n",
        "    base_model,\n",
        "    Flatten(),\n",
        "    Dense(512, activation='relu'),\n",
        "    Dropout(0.5),\n",
        "    Dense(10, activation='softmax')  # Output layer for 10 classes in CIFAR-10\n",
        "])"
      ],
      "metadata": {
        "id": "dQr1tbU7_Y-b"
      },
      "execution_count": null,
      "outputs": []
    },
    {
      "cell_type": "code",
      "source": [
        "model.compile(optimizer=Adam(lr=1e-4), loss='sparse_categorical_crossentropy', metrics=['accuracy'])"
      ],
      "metadata": {
        "colab": {
          "base_uri": "https://localhost:8080/"
        },
        "id": "FgVQu2B1_gsW",
        "outputId": "d60bcfe5-90a5-4849-c733-d7fd9002d875"
      },
      "execution_count": null,
      "outputs": [
        {
          "output_type": "stream",
          "name": "stderr",
          "text": [
            "WARNING:absl:`lr` is deprecated in Keras optimizer, please use `learning_rate` or use the legacy optimizer, e.g.,tf.keras.optimizers.legacy.Adam.\n"
          ]
        }
      ]
    },
    {
      "cell_type": "code",
      "source": [
        "history = model.fit(\n",
        "    X_train, y_train,\n",
        "    epochs=10,\n",
        "    batch_size=32,\n",
        "    validation_data=(X_val, y_val),\n",
        "    verbose=1\n",
        ")"
      ],
      "metadata": {
        "colab": {
          "base_uri": "https://localhost:8080/"
        },
        "id": "SpskgjIF_uZn",
        "outputId": "c82a0c0c-7f4b-4522-ef4f-27c9bdaca42b"
      },
      "execution_count": null,
      "outputs": [
        {
          "output_type": "stream",
          "name": "stdout",
          "text": [
            "Epoch 1/10\n",
            "1250/1250 [==============================] - 531s 424ms/step - loss: 1.4710 - accuracy: 0.4817 - val_loss: 1.2545 - val_accuracy: 0.5568\n",
            "Epoch 2/10\n",
            "1250/1250 [==============================] - 567s 454ms/step - loss: 1.2812 - accuracy: 0.5515 - val_loss: 1.2163 - val_accuracy: 0.5687\n",
            "Epoch 3/10\n",
            "1250/1250 [==============================] - 567s 454ms/step - loss: 1.2271 - accuracy: 0.5709 - val_loss: 1.1721 - val_accuracy: 0.5860\n",
            "Epoch 4/10\n",
            "1250/1250 [==============================] - 512s 410ms/step - loss: 1.1913 - accuracy: 0.5828 - val_loss: 1.1434 - val_accuracy: 0.5984\n",
            "Epoch 5/10\n",
            "1250/1250 [==============================] - 510s 408ms/step - loss: 1.1618 - accuracy: 0.5892 - val_loss: 1.1320 - val_accuracy: 0.6042\n",
            "Epoch 6/10\n",
            "1250/1250 [==============================] - 553s 442ms/step - loss: 1.1376 - accuracy: 0.6004 - val_loss: 1.1394 - val_accuracy: 0.5994\n",
            "Epoch 7/10\n",
            "1250/1250 [==============================] - 553s 443ms/step - loss: 1.1109 - accuracy: 0.6072 - val_loss: 1.1097 - val_accuracy: 0.6110\n",
            "Epoch 8/10\n",
            "1250/1250 [==============================] - 553s 442ms/step - loss: 1.0975 - accuracy: 0.6144 - val_loss: 1.1074 - val_accuracy: 0.6128\n",
            "Epoch 9/10\n",
            "1250/1250 [==============================] - 553s 442ms/step - loss: 1.0751 - accuracy: 0.6225 - val_loss: 1.1015 - val_accuracy: 0.6180\n",
            "Epoch 10/10\n",
            "1250/1250 [==============================] - 553s 442ms/step - loss: 1.0583 - accuracy: 0.6285 - val_loss: 1.1127 - val_accuracy: 0.6128\n"
          ]
        }
      ]
    }
  ]
}